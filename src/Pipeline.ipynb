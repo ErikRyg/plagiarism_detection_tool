{
 "cells": [
  {
   "attachments": {},
   "cell_type": "markdown",
   "metadata": {
    "colab_type": "text",
    "id": "foamUXrpeJZ0"
   },
   "source": [
    "# Import external libraries"
   ]
  },
  {
   "cell_type": "code",
   "execution_count": 1,
   "metadata": {},
   "outputs": [
    {
     "name": "stderr",
     "output_type": "stream",
     "text": [
      "2023-02-06 16:47:21.301516: I tensorflow/core/platform/cpu_feature_guard.cc:193] This TensorFlow binary is optimized with oneAPI Deep Neural Network Library (oneDNN) to use the following CPU instructions in performance-critical operations:  AVX2 FMA\n",
      "To enable them in other operations, rebuild TensorFlow with the appropriate compiler flags.\n",
      "2023-02-06 16:47:21.520616: W tensorflow/stream_executor/platform/default/dso_loader.cc:64] Could not load dynamic library 'libcudart.so.11.0'; dlerror: libcudart.so.11.0: cannot open shared object file: No such file or directory\n",
      "2023-02-06 16:47:21.520632: I tensorflow/stream_executor/cuda/cudart_stub.cc:29] Ignore above cudart dlerror if you do not have a GPU set up on your machine.\n",
      "2023-02-06 16:47:21.554629: E tensorflow/stream_executor/cuda/cuda_blas.cc:2981] Unable to register cuBLAS factory: Attempting to register factory for plugin cuBLAS when one has already been registered\n",
      "2023-02-06 16:47:22.178222: W tensorflow/stream_executor/platform/default/dso_loader.cc:64] Could not load dynamic library 'libnvinfer.so.7'; dlerror: libnvinfer.so.7: cannot open shared object file: No such file or directory\n",
      "2023-02-06 16:47:22.178270: W tensorflow/stream_executor/platform/default/dso_loader.cc:64] Could not load dynamic library 'libnvinfer_plugin.so.7'; dlerror: libnvinfer_plugin.so.7: cannot open shared object file: No such file or directory\n",
      "2023-02-06 16:47:22.178274: W tensorflow/compiler/tf2tensorrt/utils/py_utils.cc:38] TF-TRT Warning: Cannot dlopen some TensorRT libraries. If you would like to use Nvidia GPU with TensorRT, please make sure the missing libraries mentioned above are installed properly.\n"
     ]
    }
   ],
   "source": [
    "import pandas as pd\n",
    "import numpy as np\n",
    "import sklearn\n",
    "import re\n",
    "import random\n",
    "import os\n",
    "from sklearn import metrics\n",
    "from sklearn.model_selection import train_test_split\n",
    "import matplotlib.pyplot as plt\n",
    "import seaborn as sns # Plot statistical data such as Annotated heatmaps\n",
    "import datetime\n",
    "import tensorflow as tf\n",
    "from keras.layers import Embedding\n",
    "from keras.utils import plot_model\n",
    "from keras.wrappers.scikit_learn import KerasRegressor\n",
    "from sklearn.model_selection import GridSearchCV\n",
    "from sklearn.metrics import precision_recall_curve, average_precision_score\n",
    "from sklearn.metrics import roc_curve, auc\n",
    "import difflib\n",
    "import Levenshtein\n",
    "from Levenshtein import distance\n",
    "from sklearn.linear_model import LinearRegression\n",
    "\n",
    "from remove_given_code_from_student_solution import remove_given_code_from_df"
   ]
  },
  {
   "cell_type": "code",
   "execution_count": 2,
   "metadata": {
    "id": "UEfJ8TcMpe-2"
   },
   "outputs": [],
   "source": [
    "PATH_LABLED_SPLIT = \"/home/erik/TU/ni/plagiarism_detection_tool/data/labled/\"\n",
    "PATH_LABLED = \"/home/erik/TU/ni/plagiate_labeltool/data/labled/\"\n",
    "PATH_TEMPLATE = \"/home/erik/TU/ni/plagiate_labeltool/data/code_templates/\"\n",
    "MY_PATH = '/home/erik/TU/ni/Source-Code-Plagiarism-Detection/data'"
   ]
  },
  {
   "cell_type": "markdown",
   "metadata": {
    "id": "iiyC7HkqxlUD"
   },
   "source": [
    "# Preprocessing"
   ]
  },
  {
   "attachments": {},
   "cell_type": "markdown",
   "metadata": {},
   "source": [
    "## Create and save split data\n"
   ]
  },
  {
   "cell_type": "code",
   "execution_count": 3,
   "metadata": {},
   "outputs": [],
   "source": [
    "def split_and_save_data(df, suffix, random_state=42):\n",
    "    for i in range(len(df)):\n",
    "        if random.random() > 0.5:\n",
    "            df.at[i, 'code1'], df.at[i, 'code2'] = df.at[i, 'code2'], df.at[i, 'code1']\n",
    "    X_temp, X_test, y_temp, y_test = train_test_split(df[['code1', 'code2', 'type']], df['label'], test_size=0.2, random_state=random_state)\n",
    "    X_train, X_val, y_train, y_val = train_test_split(X_temp, y_temp, test_size=0.2, random_state=random_state)\n",
    "    pd.concat([X_train,y_train], axis=1).to_csv(f'{PATH_LABLED_SPLIT}thesis/train_data_{suffix}.csv',sep=',',index=False)\n",
    "    pd.concat([X_val,y_val], axis=1).to_csv(f'{PATH_LABLED_SPLIT}thesis/val_data_{suffix}.csv',sep=',',index=False)\n",
    "    pd.concat([X_test,y_test], axis=1).to_csv(f'{PATH_LABLED_SPLIT}thesis/test_data_{suffix}.csv',sep=',',index=False)\n",
    "    print(f'y_train plagiate: {np.count_nonzero(y_train.astype(int) == 1)}; y_train not plagiate: {np.count_nonzero(y_train.astype(int) == 0)}')\n",
    "    print(f'y_test plagiate: {np.count_nonzero(y_test.astype(int) == 1)}; y_test not plagiate: {np.count_nonzero(y_test.astype(int) == 0)}')\n",
    "    print(f'y_val plagiate: {np.count_nonzero(y_val.astype(int) == 1)}; y_val not plagiate: {np.count_nonzero(y_val.astype(int) == 0)}')\n",
    "\n",
    "def open_split_and_save_data(semester, ha, prog_lang, path=None, suffix=''):\n",
    "    if path is None:\n",
    "        path = PATH_LABLED+f'PPR [{semester}]-{ha}. Hausaufgabe - Pflichttest {prog_lang}-Antworten'\n",
    "    df_labled = pd.read_csv(f'{path}_labled{suffix}.csv')\n",
    "    try:\n",
    "        df_labled = df_labled.drop('Unnamed: 0', axis=1)\n",
    "    except KeyError:\n",
    "        pass\n",
    "    # given code must be removed in labled.csv, already happend for plagiate.csv\n",
    "    df_labled = remove_given_code_from_df(df=df_labled)\n",
    "    try:\n",
    "        df_plagiate = pd.read_csv(f'{path}_plagiate{suffix}.csv')\n",
    "        try:\n",
    "            df_plagiate = df_plagiate.drop('Unnamed: 0', axis=1)\n",
    "        except KeyError:\n",
    "            pass\n",
    "    except FileNotFoundError:\n",
    "        if path is None:\n",
    "            print(f'No plagiate file found for {semester} {ha} {prog_lang}')\n",
    "        else:\n",
    "            print(f'No plagiate file found for {path}_plagiate{suffix}.csv')\n",
    "        df_plagiate = None\n",
    "    df = pd.concat([df_labled,df_plagiate], ignore_index=True)\n",
    "    split_and_save_data(df, suffix)\n",
    "    return df_labled, df_plagiate"
   ]
  },
  {
   "cell_type": "code",
   "execution_count": 4,
   "metadata": {},
   "outputs": [],
   "source": [
    "# open all csvs in labled folder and check if they contain copy and paste plagiate\n",
    "def open_all_labled_csvs(path='../../plagiarism_detection_tool/data/labled/2023_01_02'):\n",
    "    df = pd.DataFrame()\n",
    "    for filename in os.listdir(path):\n",
    "        if filename.endswith(\".csv\") and filename.startswith('PPR'):\n",
    "            print(filename)\n",
    "            df_tmp = pd.read_csv(f'{path}/{filename}', delimiter=',')\n",
    "            df = pd.concat([df, df_tmp], ignore_index=True)\n",
    "        else:\n",
    "            continue\n",
    "    count_copy_and_paste_plagiate = len(df[df['lastname1'] == df['lastname2']])\n",
    "    count = len(df)\n",
    "    print(f'len(df): {count}')\n",
    "    print(f'count_copy_and_paste_plagiate: {count_copy_and_paste_plagiate}')\n",
    "    print(f'len(df) - count_copy_and_paste_plagiate: {count - count_copy_and_paste_plagiate}')\n",
    "    return df\n",
    "\n",
    "# df = open_all_labled_csvs()"
   ]
  },
  {
   "cell_type": "code",
   "execution_count": 5,
   "metadata": {},
   "outputs": [],
   "source": [
    "def save_csv_smaller_label(df, label, suffix):\n",
    "    df = df[df['label'] < label]\n",
    "    df.to_csv(f'{PATH_LABLED_SPLIT}/2023_01_02/all_labled_data_{suffix}.csv', sep=',', index=False)    \n",
    "\n",
    "# save_csv_smaller_label(df, 0.4, 'smaller_0.4')"
   ]
  },
  {
   "cell_type": "code",
   "execution_count": 6,
   "metadata": {},
   "outputs": [],
   "source": [
    "def set_non_plagiate_and_resave_csv(suffix):\n",
    "    df = pd.read_csv(f'{PATH_LABLED_SPLIT}/2023_01_02/all_labled_data_{suffix}.csv', delimiter=',')\n",
    "    df['label'] = 0\n",
    "    df.to_csv(f'{PATH_LABLED_SPLIT}/2023_01_02/all_labled_data_{suffix}.csv', sep=',', index=False)\n",
    "\n",
    "# set_non_plagiate_and_resave_csv('smaller_0.7')"
   ]
  },
  {
   "cell_type": "code",
   "execution_count": 7,
   "metadata": {},
   "outputs": [],
   "source": [
    "def save_plagiate_in_new_csv(suffix):\n",
    "    df = pd.read_csv(f'{PATH_LABLED_SPLIT}/2023_01_02/all_labled_data_{suffix}.csv', delimiter=',')\n",
    "    df_plagiate = df[df['label'] > 0.5]\n",
    "    df_plagiate.to_csv(f'{PATH_LABLED_SPLIT}/2023_01_02/all_plagiate_data_{suffix}.csv', sep=',', index=False)"
   ]
  },
  {
   "cell_type": "markdown",
   "metadata": {},
   "source": [
    "### Load split data\n"
   ]
  },
  {
   "cell_type": "code",
   "execution_count": 8,
   "metadata": {},
   "outputs": [],
   "source": [
    "def read_and_split_data(data_type='train_data_', suffix='_copy_and_paste'):\n",
    "    data = pd.read_csv(PATH_LABLED_SPLIT + f'thesis/{data_type}{suffix}.csv',sep=',')\n",
    "    return data[['code1','code2']], data[['label']] \n",
    "\n",
    "# suffix = '_data_smaller_0.7'\n",
    "# DATASET = 'smaller_0.7'\n",
    "# # suffix = 'WS2021_HA9'\n",
    "# # suffix = 'HA9'\n",
    "# X_train, y_train = read_and_split_data('train_data_', suffix)\n",
    "# X_val, y_val = read_and_split_data('val_data_', suffix)\n",
    "# X_test, y_test = read_and_split_data('test_data_', suffix)"
   ]
  },
  {
   "cell_type": "markdown",
   "metadata": {},
   "source": [
    "## Preprocess the pairs for the models\n"
   ]
  },
  {
   "cell_type": "code",
   "execution_count": 9,
   "metadata": {},
   "outputs": [],
   "source": [
    "def striphtml(data): \n",
    "    return re.sub('<.*?>', ' ', str(data)) \n",
    "\n",
    "def stripunc(data): \n",
    "    return re.sub('[^A-Za-z%\\._\\[\\]]+', ' ', str(data), flags=re.MULTILINE|re.DOTALL) "
   ]
  },
  {
   "cell_type": "code",
   "execution_count": 10,
   "metadata": {},
   "outputs": [],
   "source": [
    "def preprocess_student_pairs(df): \n",
    "    df['code1_strip'] = df[['code1']].apply(lambda x:striphtml(stripunc((x[0]))).lower(), axis=1)\n",
    "    df['code2_strip'] = df[['code2']].apply(lambda x:striphtml(stripunc((x[0]))).lower(), axis=1)\n",
    "    return df"
   ]
  },
  {
   "cell_type": "code",
   "execution_count": 14,
   "metadata": {},
   "outputs": [],
   "source": [
    "# %%capture\n",
    "# preprocess_student_pairs(X_train)\n",
    "# preprocess_student_pairs(X_val)\n",
    "# preprocess_student_pairs(X_test)\n"
   ]
  },
  {
   "attachments": {},
   "cell_type": "markdown",
   "metadata": {
    "colab_type": "text",
    "id": "2oM-UssTeYO7"
   },
   "source": [
    "# TextVectorization Model"
   ]
  },
  {
   "cell_type": "code",
   "execution_count": 11,
   "metadata": {},
   "outputs": [],
   "source": [
    "THESIS_PATH = '/home/erik/TU/ni/Source-Code-Plagiarism-Detection/data/thesis/'\n",
    "\n",
    "def train_vectorize_layer(vectorize_layer, X_train):\n",
    "    vectorize_layer.adapt(X_train['code1_strip'].values)\n",
    "    vectorize_layer.adapt(X_train['code2_strip'].values)\n",
    "\n",
    "def textvectorization_model(tf_idf='tf_idf', max_vocab_len=1000, embedding_dim=64, dropout=0.2, rnn_units=64, dense_units=32, lr=0.001):\n",
    "    if tf_idf == 'tf_idf':\n",
    "        vectorize_layer = tf.keras.layers.TextVectorization(max_tokens=max_vocab_len, output_mode=tf_idf, idf_weights=True)\n",
    "    elif tf_idf == 'tf':\n",
    "        vectorize_layer = tf.keras.layers.TextVectorization(max_tokens=max_vocab_len, output_mode='tf_idf', idf_weights=False)\n",
    "    else:\n",
    "        vectorize_layer = tf.keras.layers.TextVectorization(max_tokens=max_vocab_len, output_mode='int')\n",
    "    train_vectorize_layer(vectorize_layer, X_train)\n",
    "    model = tf.keras.Sequential([\n",
    "        tf.keras.layers.Input(shape=(2,), dtype=tf.string),\n",
    "        tf.keras.layers.Lambda(lambda x: tf.strings.reduce_join(x, axis=1, separator=' '), output_shape=(1,)),\n",
    "        vectorize_layer,\n",
    "        tf.keras.layers.Embedding(max_vocab_len, embedding_dim, mask_zero=True),\n",
    "        tf.keras.layers.Bidirectional(tf.keras.layers.LSTM(rnn_units)),\n",
    "        tf.keras.layers.Dropout(dropout),\n",
    "        tf.keras.layers.Dense(dense_units, activation='relu'),\n",
    "        tf.keras.layers.Dense(1, activation='sigmoid'),\n",
    "    ])\n",
    "    model.compile(loss='binary_crossentropy', optimizer=tf.keras.optimizers.Adam(learning_rate=lr), metrics=['accuracy'])\n",
    "    return model\n",
    "\n",
    "\n",
    "early_stopping = tf.keras.callbacks.EarlyStopping(monitor='val_loss', patience=10, min_delta=1e-4, restore_best_weights=True, verbose=1)\n",
    "reduce_lr = tf.keras.callbacks.ReduceLROnPlateau(monitor='val_loss', factor=0.2, patience=5, min_lr=0.001)\n"
   ]
  },
  {
   "cell_type": "markdown",
   "metadata": {
    "colab_type": "text",
    "id": "r3b1j7J579_D"
   },
   "source": [
    "## Use GridSearchCV to find the best parameters"
   ]
  },
  {
   "cell_type": "code",
   "execution_count": 17,
   "metadata": {},
   "outputs": [],
   "source": [
    "# tf_idf='tf_idf'\n",
    "# dropout=0.2\n",
    "# max_vocab_len=1000\n",
    "# embedding_dim=16\n",
    "# rnn_units=16\n",
    "# dense_units=32\n",
    "# lr = 0.01\n",
    "\n",
    "# # create a kerasclassifier and make gridsearch\n",
    "# keras = KerasRegressor(build_fn=textvectorization_model, tf_idf=tf_idf, max_vocab_len=max_vocab_len, embedding_dim=embedding_dim, dropout=dropout, rnn_units=rnn_units, dense_units=dense_units, lr=lr, epochs=50, batch_size=32, verbose=1)\n",
    "# param_grid = dict(tf_idf=['tf_idf'], dropout=[0.2, 0.4], max_vocab_len=[1000], embedding_dim=[16], rnn_units=[16], dense_units=[16], lr=[0.1, 0.01, 0.01])\n",
    "# grid = GridSearchCV(estimator=keras, param_grid=param_grid, n_jobs=-1, cv=3, verbose=1)"
   ]
  },
  {
   "cell_type": "code",
   "execution_count": 18,
   "metadata": {},
   "outputs": [],
   "source": [
    "# # self written grid search\n",
    "# results = []\n",
    "# for tf_idf in ['tf_idf']:\n",
    "#     for dropout in [0.2]:#, 0.4]:\n",
    "#         for max_vocab_len in [1000]:\n",
    "#             for embedding_dim in [16]:\n",
    "#                 for rnn_units in [16]:\n",
    "#                     for dense_units in [16]:\n",
    "#                         for lr in [0.1, 0.01, 0.001]:\n",
    "#                             model = textvectorization_model(tf_idf=tf_idf, max_vocab_len=max_vocab_len, embedding_dim=embedding_dim, dropout=dropout, rnn_units=rnn_units, dense_units=dense_units, lr=lr)\n",
    "#                             # model.load_weights(THESIS_PATH + 'textvectorization_model_{}_{}_{}_{}_{}_{}_{}.tf'.format(tf_idf, dropout, max_vocab_len, embedding_dim, rnn_units, dense_units, lr))\n",
    "#                             training_history = model.fit(X_train[['code1_strip','code2_strip']], y_train, validation_data=(X_val[['code1_strip', 'code2_strip']], y_val), epochs=50, verbose=1, callbacks=[early_stopping, reduce_lr])\n",
    "#                             # model.save(THESIS_PATH + 'textvectorization_model_{}_{}_{}_{}_{}_{}_{}.tf'.format(tf_idf, dropout, max_vocab_len, embedding_dim, rnn_units, dense_units, lr))\n",
    "#                             print('tf_idf: {}, dropout: {}, max_vocab_len: {}, embedding_dim: {}, rnn_units: {}, dense_units: {}, lr: {}'.format(tf_idf, dropout, max_vocab_len, embedding_dim, rnn_units, dense_units, lr))\n",
    "#                             # save the accuracy and loss of the model from the validation set\n",
    "#                             results.append([tf_idf, dropout, max_vocab_len, embedding_dim, rnn_units, dense_units, lr, training_history.history['val_accuracy'][-1], training_history.history['val_loss'][-1]])\n",
    "\n",
    "# # tf_idf: tf_idf, dropout: 0.2, max_vocab_len: 1000, embedding_dim: 16, rnn_units: 16, dense_units: 16, lr: 0.1\n",
    "# # 96/96 [==============================] - 29s 300ms/step - loss: 0.0137 - accuracy: 0.9944 - val_loss: 0.0025 - val_accuracy: 1.0000 - lr: 0.0200\n",
    "# # tf_idf: tf_idf, dropout: 0.2, max_vocab_len: 1000, embedding_dim: 16, rnn_units: 16, dense_units: 16, lr: 0.01\n",
    "# # 96/96 [==============================] - 29s 303ms/step - loss: 1.0175e-04 - accuracy: 1.0000 - val_loss: 0.0070 - val_accuracy: 0.9987 - lr: 0.0100\n",
    "# # tf_idf: tf_idf, dropout: 0.2, max_vocab_len: 1000, embedding_dim: 16, rnn_units: 16, dense_units: 16, lr: 0.001\n",
    "# # 96/96 [==============================] - 29s 306ms/step - loss: 6.5587e-05 - accuracy: 1.0000 - val_loss: 0.0075 - val_accuracy: 0.9974 - lr: 0.0010\n"
   ]
  },
  {
   "cell_type": "code",
   "execution_count": 12,
   "metadata": {},
   "outputs": [
    {
     "name": "stderr",
     "output_type": "stream",
     "text": [
      "2023-02-06 16:48:26.578049: W tensorflow/stream_executor/platform/default/dso_loader.cc:64] Could not load dynamic library 'libcuda.so.1'; dlerror: libcuda.so.1: cannot open shared object file: No such file or directory\n",
      "2023-02-06 16:48:26.578295: W tensorflow/stream_executor/cuda/cuda_driver.cc:263] failed call to cuInit: UNKNOWN ERROR (303)\n",
      "2023-02-06 16:48:26.578307: I tensorflow/stream_executor/cuda/cuda_diagnostics.cc:156] kernel driver does not appear to be running on this host (erik-MS-7C56): /proc/driver/nvidia/version does not exist\n",
      "2023-02-06 16:48:26.578452: I tensorflow/core/platform/cpu_feature_guard.cc:193] This TensorFlow binary is optimized with oneAPI Deep Neural Network Library (oneDNN) to use the following CPU instructions in performance-critical operations:  AVX2 FMA\n",
      "To enable them in other operations, rebuild TensorFlow with the appropriate compiler flags.\n"
     ]
    },
    {
     "name": "stdout",
     "output_type": "stream",
     "text": [
      "Epoch 1/50\n",
      "57/57 [==============================] - 21s 301ms/step - loss: 0.4903 - accuracy: 0.7761 - val_loss: 0.4289 - val_accuracy: 0.8200 - lr: 0.1000\n",
      "Epoch 2/50\n",
      "57/57 [==============================] - 16s 278ms/step - loss: 0.3290 - accuracy: 0.8639 - val_loss: 0.4138 - val_accuracy: 0.8378 - lr: 0.1000\n",
      "Epoch 3/50\n",
      "57/57 [==============================] - 16s 282ms/step - loss: 0.3360 - accuracy: 0.8672 - val_loss: 0.3527 - val_accuracy: 0.8578 - lr: 0.1000\n",
      "Epoch 4/50\n",
      "57/57 [==============================] - 16s 278ms/step - loss: 0.2866 - accuracy: 0.8767 - val_loss: 0.3881 - val_accuracy: 0.8467 - lr: 0.1000\n",
      "Epoch 5/50\n",
      "57/57 [==============================] - 17s 294ms/step - loss: 0.2970 - accuracy: 0.8800 - val_loss: 0.4239 - val_accuracy: 0.8733 - lr: 0.1000\n",
      "Epoch 6/50\n",
      "57/57 [==============================] - 16s 285ms/step - loss: 0.3205 - accuracy: 0.8667 - val_loss: 0.3170 - val_accuracy: 0.8733 - lr: 0.1000\n",
      "Epoch 7/50\n",
      "57/57 [==============================] - 16s 286ms/step - loss: 0.3067 - accuracy: 0.8600 - val_loss: 0.3114 - val_accuracy: 0.8733 - lr: 0.1000\n",
      "Epoch 8/50\n",
      "57/57 [==============================] - 16s 285ms/step - loss: 0.2609 - accuracy: 0.8872 - val_loss: 0.3046 - val_accuracy: 0.8844 - lr: 0.1000\n",
      "Epoch 9/50\n",
      "57/57 [==============================] - 16s 280ms/step - loss: 0.2628 - accuracy: 0.8911 - val_loss: 0.3364 - val_accuracy: 0.8911 - lr: 0.1000\n",
      "Epoch 10/50\n",
      "57/57 [==============================] - 17s 293ms/step - loss: 0.2416 - accuracy: 0.9017 - val_loss: 0.2955 - val_accuracy: 0.9022 - lr: 0.1000\n",
      "Epoch 11/50\n",
      "57/57 [==============================] - 16s 285ms/step - loss: 0.2394 - accuracy: 0.9011 - val_loss: 0.3025 - val_accuracy: 0.8889 - lr: 0.1000\n",
      "Epoch 12/50\n",
      "57/57 [==============================] - 16s 281ms/step - loss: 0.2589 - accuracy: 0.8961 - val_loss: 0.3209 - val_accuracy: 0.8911 - lr: 0.1000\n",
      "Epoch 13/50\n",
      "57/57 [==============================] - 16s 281ms/step - loss: 0.2438 - accuracy: 0.9017 - val_loss: 0.3205 - val_accuracy: 0.8800 - lr: 0.1000\n",
      "Epoch 14/50\n",
      "57/57 [==============================] - 16s 280ms/step - loss: 0.2530 - accuracy: 0.8983 - val_loss: 0.3136 - val_accuracy: 0.8844 - lr: 0.1000\n",
      "Epoch 15/50\n",
      "57/57 [==============================] - 16s 281ms/step - loss: 0.2884 - accuracy: 0.8778 - val_loss: 0.3917 - val_accuracy: 0.8333 - lr: 0.1000\n",
      "Epoch 16/50\n",
      "57/57 [==============================] - 16s 284ms/step - loss: 0.2587 - accuracy: 0.8961 - val_loss: 0.3495 - val_accuracy: 0.8556 - lr: 0.0200\n",
      "Epoch 17/50\n",
      "57/57 [==============================] - 16s 283ms/step - loss: 0.2393 - accuracy: 0.8911 - val_loss: 0.3307 - val_accuracy: 0.8644 - lr: 0.0200\n",
      "Epoch 18/50\n",
      "57/57 [==============================] - 16s 286ms/step - loss: 0.2259 - accuracy: 0.9072 - val_loss: 0.3200 - val_accuracy: 0.8800 - lr: 0.0200\n",
      "Epoch 19/50\n",
      "57/57 [==============================] - 16s 286ms/step - loss: 0.2283 - accuracy: 0.9028 - val_loss: 0.3044 - val_accuracy: 0.8800 - lr: 0.0200\n",
      "Epoch 20/50\n",
      "57/57 [==============================] - ETA: 0s - loss: 0.2076 - accuracy: 0.9033Restoring model weights from the end of the best epoch: 10.\n",
      "57/57 [==============================] - 16s 282ms/step - loss: 0.2076 - accuracy: 0.9033 - val_loss: 0.3159 - val_accuracy: 0.8733 - lr: 0.0200\n",
      "Epoch 20: early stopping\n"
     ]
    }
   ],
   "source": [
    "suffix = '_data_smaller_0.4'\n",
    "X_train, y_train = read_and_split_data('train_data_', suffix)\n",
    "X_val, y_val = read_and_split_data('val_data_', suffix)\n",
    "X_test, y_test = read_and_split_data('test_data_', suffix)\n",
    "\n",
    "preprocess_student_pairs(X_train)\n",
    "preprocess_student_pairs(X_val)\n",
    "preprocess_student_pairs(X_test)\n",
    "model = textvectorization_model(tf_idf='tf_idf', max_vocab_len=1000, embedding_dim=16, dropout=0.2, rnn_units=16, dense_units=16, lr=0.1)\n",
    "history = model.fit(X_train[['code1_strip','code2_strip']], y_train, validation_data=(X_val[['code1_strip', 'code2_strip']], y_val), epochs=50, verbose=1, callbacks=[early_stopping, reduce_lr])\n"
   ]
  },
  {
   "cell_type": "code",
   "execution_count": 20,
   "metadata": {},
   "outputs": [],
   "source": [
    "# # evaluate the model\n",
    "# loss, accuracy = model.evaluate(X_val[['code1_strip', 'code2_strip']], y_val, verbose=1)\n",
    "# loss, accuracy = model.evaluate(X_test[['code1_strip', 'code2_strip']], y_test, verbose=1)\n",
    "\n",
    "# #save the model\n",
    "# # model.save(THESIS_PATH + 'thesis/textvectorization_model_{}_{}_{}_{}_{}_{}_{}_best_parameter.tf'.format(tf_idf, dropout, max_vocab_len, embedding_dim, rnn_units, dense_units, lr))"
   ]
  },
  {
   "cell_type": "code",
   "execution_count": 15,
   "metadata": {},
   "outputs": [
    {
     "name": "stdout",
     "output_type": "stream",
     "text": [
      "dict_keys(['loss', 'accuracy', 'val_loss', 'val_accuracy', 'lr'])\n"
     ]
    }
   ],
   "source": [
    "print(history.history.keys())"
   ]
  },
  {
   "cell_type": "markdown",
   "metadata": {
    "colab_type": "text",
    "id": "MHj5WbFSa5S8"
   },
   "source": [
    "## Plot Training History"
   ]
  },
  {
   "cell_type": "code",
   "execution_count": 17,
   "metadata": {},
   "outputs": [
    {
     "data": {
      "image/png": "[encoded data removed]",
      "text/plain": [
       "<Figure size 640x480 with 1 Axes>"
      ]
     },
     "metadata": {},
     "output_type": "display_data"
    }
   ],
   "source": [
    "def plot_training_history(training_history, path):\n",
    "    plt.plot(training_history.history['accuracy'], label='accuracy')\n",
    "    plt.plot(training_history.history['val_accuracy'], label = 'val_accuracy')\n",
    "    plt.plot(training_history.history['loss'], label='loss')\n",
    "    plt.plot(training_history.history['val_loss'], label = 'val_loss')\n",
    "    plt.plot(training_history.history['lr'], label = 'lr')\n",
    "    plt.xlabel('Epoch')\n",
    "    plt.ylabel('Accuracy')\n",
    "    plt.ylim([0, 1])\n",
    "    plt.legend(loc='lower right')\n",
    "    plt.savefig(path)\n",
    "    plt.show()\n",
    "\n",
    "plot_training_history(history, THESIS_PATH + 'smaller_0.4/textvectorization_model_{}_{}_{}_{}_{}_{}_{}2.png'.format('tf-idf', 0.2, 1000, 16, 16, 16, 0.2))"
   ]
  },
  {
   "cell_type": "markdown",
   "metadata": {
    "colab_type": "text",
    "id": "MHj5WbFSa5S8"
   },
   "source": [
    "## Plot Model"
   ]
  },
  {
   "cell_type": "code",
   "execution_count": 23,
   "metadata": {},
   "outputs": [],
   "source": [
    "# load textvectorization_model from dataset smaller_0.4\n",
    "# textvectorization_model = tf.keras.models.load_model(THESIS_PATH + 'smaller_0.4/textvectorization_model.tf')\n",
    "# model.summary()\n"
   ]
  },
  {
   "cell_type": "code",
   "execution_count": 24,
   "metadata": {},
   "outputs": [],
   "source": [
    "# plot_model(textvectorization_model, to_file=THESIS_PATH + 'textvectorization_model_new.png', show_shapes=True, show_layer_names=False)"
   ]
  },
  {
   "cell_type": "markdown",
   "metadata": {},
   "source": [
    "# Evaluation"
   ]
  },
  {
   "cell_type": "markdown",
   "metadata": {
    "colab_type": "text",
    "id": "wMV7MqsnaAQc"
   },
   "source": [
    "## Confusion Matrix"
   ]
  },
  {
   "cell_type": "code",
   "execution_count": 21,
   "metadata": {
    "colab": {},
    "colab_type": "code",
    "id": "vwF4QHMHKQRe"
   },
   "outputs": [],
   "source": [
    "def show_confusion_matrix(y_test, predictions, MAIN_FOLDER, model_name, title):\n",
    "    matrix = metrics.confusion_matrix(y_test, predictions)\n",
    "    LABELS = [\"Not Similar\", \"Similar\"]\n",
    "    plt.figure(figsize=(6, 4))\n",
    "    sns.heatmap(matrix,\n",
    "                cmap=\"coolwarm\",\n",
    "                linecolor='white',\n",
    "                linewidths=1,\n",
    "                xticklabels=LABELS,\n",
    "                yticklabels=LABELS,\n",
    "                annot=True,\n",
    "                fmt=\"d\")\n",
    "    plt.title(\"Confusion Matrix for \"+ model_name +\"\\n with \" + title)\n",
    "    plt.ylabel(\"True Label\")\n",
    "    plt.xlabel(\"Predicted Label : acc = \" + str(round(metrics.accuracy_score(y_test, predictions), 2)))\n",
    "    path = MAIN_FOLDER\n",
    "    plt.savefig(path + 'confusion_matrix_{}.svg'.format(datetime.datetime.now().isoformat()))\n",
    "    plt.show()"
   ]
  },
  {
   "cell_type": "code",
   "execution_count": 22,
   "metadata": {},
   "outputs": [],
   "source": [
    "def calculate_confusion_matrix(predictions, y_test, MAIN_FOLDER, model_name, title):\n",
    "    y_pred = np.array([round(x) for x in predictions],dtype='int64')\n",
    "    y_test_flatted = np.array([round(x) for x in y_test['label']],dtype='int64')\n",
    "    # y_test_flatted = np.array(y_test['label'], dtype='float64').flatten()\n",
    "    incorrects = np.nonzero(y_pred != y_test_flatted)\n",
    "    print(\"Incorrectly predicted: {} from total {} == {:.3f}%\".format(len(incorrects[0]), len(y_test_flatted), len(incorrects[0])/len(y_test_flatted)))\n",
    "    show_confusion_matrix(y_test_flatted, y_pred, MAIN_FOLDER, model_name, title)"
   ]
  },
  {
   "cell_type": "markdown",
   "metadata": {},
   "source": [
    "## Predictions on test dataset with difflib, levenshtein and textvectorization model"
   ]
  },
  {
   "cell_type": "code",
   "execution_count": null,
   "metadata": {},
   "outputs": [],
   "source": [
    "results = model.predict(X_test[['code1_strip', 'code2_strip']]).flatten()\n",
    "calculate_confusion_matrix(y_test, results, THESIS_PATH, 'textvectorization', f'test data set smaller_0.4')"
   ]
  },
  {
   "cell_type": "code",
   "execution_count": 27,
   "metadata": {},
   "outputs": [],
   "source": [
    "model_names = ['difflib', 'difflib_reg', 'levenshtein', 'levenshtein_reg', 'levenshtein_1', 'levenshtein_2', 'levenshtein_3', 'textvectorization']\n",
    "test_predictions = pd.DataFrame(columns=model_names)"
   ]
  },
  {
   "attachments": {},
   "cell_type": "markdown",
   "metadata": {},
   "source": [
    "## Text Similarity Algorithms with linear regression"
   ]
  },
  {
   "cell_type": "code",
   "execution_count": 28,
   "metadata": {},
   "outputs": [],
   "source": [
    "class Difflib_Regressor:\n",
    "    def __init__(self):\n",
    "        self.linreg = LinearRegression()\n",
    "\n",
    "    def fit(self, X, y):\n",
    "        predictions = [difflib.SequenceMatcher(None, codes[0], codes[1]).ratio() for codes in X]\n",
    "        self.linreg.fit(np.array(predictions).reshape(-1, 1), y)\n",
    "\n",
    "    def predict(self, X):\n",
    "        predictions = [difflib.SequenceMatcher(None, codes[0], codes[1]).ratio() for codes in X]\n",
    "        return self.linreg.predict(np.array(predictions).reshape(-1, 1))"
   ]
  },
  {
   "cell_type": "code",
   "execution_count": 29,
   "metadata": {},
   "outputs": [],
   "source": [
    "class Levenshtein_Regressor:\n",
    "    def __init__(self):\n",
    "        self.linreg = LinearRegression()\n",
    "\n",
    "    def fit(self, X, y):\n",
    "        # use difflib matcher on trainings data and then use the predicted values as input for linear regression\n",
    "        predictions = [Levenshtein.ratio(codes[0], codes[1]) for codes in X]\n",
    "        self.linreg.fit(np.array(predictions).reshape(-1, 1), y)\n",
    "\n",
    "    def predict(self, X):\n",
    "        predictions = [Levenshtein.ratio(codes[0], codes[1]) for codes in X]\n",
    "        return self.linreg.predict(np.array(predictions).reshape(-1, 1))"
   ]
  },
  {
   "cell_type": "code",
   "execution_count": 30,
   "metadata": {},
   "outputs": [],
   "source": [
    "def distance_percentage(string1, string2):\n",
    "    return distance(string1, string2) / np.max([len(string1), len(string2)])\n",
    "\n",
    "def get_similarity_1(string1, string2):\n",
    "    distance1 = distance_percentage(string1, string2)\n",
    "    return 1 - distance1\n",
    "\n",
    "def get_similarity_2(string1, string2):\n",
    "    string1 = string1.split()\n",
    "    string1_w = \"\".join(string1)\n",
    "    string2 = string2.split()\n",
    "    string2_w = \"\".join(string2)\n",
    "    distance2 = distance_percentage(string1_w, string2_w)\n",
    "    return 1 - distance2\n",
    "\n",
    "def get_similarity_3(string1, string2):\n",
    "    string1 = string1.split()\n",
    "    string1_w = \"\".join(string1)\n",
    "    string1_s = \"\".join(sorted(string1_w))\n",
    "    string2 = string2.split()\n",
    "    string2_w = \"\".join(string2)\n",
    "    string2_s = \"\".join(sorted(string2_w))\n",
    "    distance3 = distance_percentage(string1_s, string2_s)\n",
    "    return 1 - distance3"
   ]
  },
  {
   "cell_type": "code",
   "execution_count": 31,
   "metadata": {},
   "outputs": [
    {
     "name": "stdout",
     "output_type": "stream",
     "text": [
      "0.9333333333333333\n",
      "0.9166666666666666\n",
      "0.9166666666666666\n"
     ]
    }
   ],
   "source": [
    "# call the three function with two sample strings\n",
    "print(get_similarity_1(\"this is a test\", \"this is a test!\"))\n",
    "print(get_similarity_2(\"this is a test\", \"this is a test!\"))\n",
    "print(get_similarity_3(\"this is a test\", \"this is a test!\"))\n"
   ]
  },
  {
   "cell_type": "markdown",
   "metadata": {
    "colab_type": "text",
    "id": "w5YPFIwl5c91"
   },
   "source": [
    "## Display Confusion Metrics"
   ]
  },
  {
   "cell_type": "code",
   "execution_count": 32,
   "metadata": {},
   "outputs": [],
   "source": [
    "# TODAY = MY_PATH + '/2023_01_22/'\n",
    "# calculate_confusion_matrix(test_predictions['textvectorization'].values, y_test, THESIS_PATH+DATASET+'/', 'textvectorization', f'test data set {DATASET}')"
   ]
  },
  {
   "cell_type": "code",
   "execution_count": 33,
   "metadata": {
    "colab": {},
    "colab_type": "code",
    "id": "15f3r918wzgF"
   },
   "outputs": [],
   "source": [
    "def plot_roc(test_predictions, y_test, path):\n",
    "    plt.figure()\n",
    "    for col in test_predictions:\n",
    "        print(col)\n",
    "        fpr, tpr, _ = roc_curve(y_test, test_predictions[col].values)\n",
    "        roc_auc = auc(fpr, tpr)\n",
    "        plt.plot(fpr, tpr, label=f'{col} (AUC = %0.2f)' % roc_auc)\n",
    "    plt.plot([0, 1], [0, 1], 'k--', label='Chance')\n",
    "    plt.xlim([0.0, 1.0])\n",
    "    plt.ylim([0.0, 1.05])\n",
    "    plt.xlabel('False Positive Rate')\n",
    "    plt.ylabel('True Positive Rate')\n",
    "    plt.title('Receiver Operating Characteristic (ROC)')\n",
    "    plt.legend(loc=\"lower right\")\n",
    "   \n",
    "    path = path + 'roc_curve_{}.svg'.format(datetime.datetime.now().isoformat())\n",
    "    plt.savefig(path)\n",
    "    plt.show()"
   ]
  },
  {
   "cell_type": "code",
   "execution_count": 34,
   "metadata": {},
   "outputs": [],
   "source": [
    "def train_all_models(X_train, y_train, X_val, y_val):\n",
    "    difflib_regressor = Difflib_Regressor()\n",
    "    difflib_regressor.fit(X_train[['code1', 'code2']].values, y_train)\n",
    "    difflib_regressor.fit(X_val[['code1', 'code2']].values, y_val)\n",
    "    levenshtein_regressor = Levenshtein_Regressor()\n",
    "    levenshtein_regressor.fit(X_train[['code1','code2']].values, y_train)\n",
    "    levenshtein_regressor.fit(X_val[['code1','code2']].values, y_val)\n",
    "    textvectorization = textvectorization_model(tf_idf='tf_idf', max_vocab_len=1000, embedding_dim=16, rnn_units=16, dense_units=16, dropout=0.2, lr=0.1)\n",
    "    textvectorization.fit(X_train[['code1_strip','code2_strip']], y_train, validation_data=(X_val[['code1_strip', 'code2_strip']], y_val), epochs=50, verbose=1, callbacks=[early_stopping, reduce_lr])\n",
    "    return difflib_regressor, levenshtein_regressor, textvectorization\n",
    "\n",
    "\n",
    "def test_all_models(X_test, test_predictions, y_test, Difflib_Reg, Leven_Reg, textvectorization_model):\n",
    "    try:\n",
    "        test_predictions['difflib'] = [difflib.SequenceMatcher(None, codes[0], codes[1]).ratio() for codes in X_test[['code1', 'code2']].values]\n",
    "        test_predictions['difflib_reg'] = Difflib_Reg.predict(X_test[['code1', 'code2']].values)\n",
    "        test_predictions['levenshtein'] = [Levenshtein.ratio(codes[0], codes[1]) for codes in X_test[['code1', 'code2']].values]\n",
    "        test_predictions['levenshtein_reg'] = Leven_Reg.predict(X_test[['code1','code2']].values)\n",
    "        test_predictions['levenshtein_1'] = [get_similarity_1(codes[0], codes[1]) for codes in X_test[['code1', 'code2']].values]\n",
    "        test_predictions['levenshtein_2'] = [get_similarity_2(codes[0], codes[1]) for codes in X_test[['code1', 'code2']].values]\n",
    "        test_predictions['levenshtein_3'] = [get_similarity_3(codes[0], codes[1]) for codes in X_test[['code1', 'code2']].values]\n",
    "        test_predictions['textvectorization'] = textvectorization_model.predict(X_test[['code1_strip', 'code2_strip']]).flatten()\n",
    "    except:\n",
    "        print('Error in test_all_models')\n",
    "        return test_predictions\n",
    "    test_predictions[test_predictions < 0] = 0\n",
    "    test_predictions[test_predictions > 1] = 1\n",
    "    plot_roc(test_predictions, y_test, THESIS_PATH + f'{DATASET}/')\n",
    "    test_predictions = test_predictions.round()\n",
    "    return test_predictions\n"
   ]
  },
  {
   "cell_type": "markdown",
   "metadata": {
    "colab_type": "text",
    "id": "p5Sh-nOqaGEe"
   },
   "source": [
    "## Precision vs Recall Curve"
   ]
  },
  {
   "cell_type": "code",
   "execution_count": 35,
   "metadata": {
    "colab": {
     "base_uri": "https://localhost:8080/",
     "height": 295
    },
    "colab_type": "code",
    "id": "G36mh-PsWBhn",
    "outputId": "f05a8a4a-323f-4749-bb4c-6c134ab94f41"
   },
   "outputs": [],
   "source": [
    "def plot_precision_recall_curve(y_test, y_pred):\n",
    "    precision, recall, _ = precision_recall_curve(y_test, y_pred)\n",
    "    average_precision = average_precision_score(y_test, y_pred)\n",
    "    plt.plot(recall, precision, marker='.', label='Precision-Recall Curve')\n",
    "    plt.ylim([0.0, 1.05])\n",
    "    plt.xlim([0.0, 1.05])\n",
    "    plt.xlabel('Recall')\n",
    "    plt.ylabel('Precision')\n",
    "    plt.title('2-Class Precision-Recall Curve: AP={0:0.4f}'.format(average_precision))\n",
    "    plt.legend(loc=\"lower right\")\n",
    "\n",
    "    path = THESIS_PATH + f'{DATASET}/' + 'precision_recall_curve_{}.svg'.format(datetime.datetime.now().isoformat())\n",
    "    plt.savefig(path)\n",
    "    plt.show()\n",
    "\n",
    "# plot_precision_recall_curve(y_test, test_predictions['textvectorization'])"
   ]
  },
  {
   "attachments": {},
   "cell_type": "markdown",
   "metadata": {},
   "source": [
    "## Calculate metrics table"
   ]
  },
  {
   "cell_type": "code",
   "execution_count": 36,
   "metadata": {},
   "outputs": [],
   "source": [
    "def calculate_metrics(y_test, test_predictions, model_names):\n",
    "    df_metrics = pd.DataFrame(columns=['precision', 'recall', 'f1-score', 'support'])\n",
    "    for col in test_predictions[model_names]:\n",
    "        df_metrics.loc[col] = metrics.classification_report(y_test, round(test_predictions[col]), output_dict=True)['weighted avg']\n",
    "    df_metrics = df_metrics.drop('support', axis=1)\n",
    "    df_metrics = df_metrics.drop('precision', axis=1)\n",
    "    return df_metrics\n",
    "\n",
    "def plot_metrics_table(df_metrics, path, title='Metrics Table'):\n",
    "    fig, ax = plt.subplots()\n",
    "    fig.patch.set_visible(False)\n",
    "    ax.axis('off')\n",
    "    ax.axis('tight')\n",
    "    table = ax.table(cellText=df_metrics.round(4).values, colLabels=df_metrics.columns, rowLabels=df_metrics.index.values, loc='center')\n",
    "    path = path + title + '.png'\n",
    "    plt.savefig(path)\n",
    "    plt.show()\n",
    "\n",
    "\n",
    "# df_metrics = calculate_metrics(y_test, test_predictions, model_names)\n",
    "# plot_metrics_table(df_metrics, THESIS_PATH + f'{DATASET}/', title=f'Metrics Table with test data of {DATASET} dataset')"
   ]
  },
  {
   "cell_type": "code",
   "execution_count": null,
   "metadata": {},
   "outputs": [],
   "source": [
    "def read_dataset_load_model_train_models_and_eval_all_models(suffix = '_data_smaller_0.7', DATASET = 'smaller_0.7'):\n",
    "    X_train, y_train = read_and_split_data('train_data_', suffix)\n",
    "    X_val, y_val = read_and_split_data('val_data_', suffix)\n",
    "    X_test, y_test = read_and_split_data('test_data_', suffix)\n",
    "\n",
    "    preprocess_student_pairs(X_train)\n",
    "    preprocess_student_pairs(X_val)\n",
    "    preprocess_student_pairs(X_test)\n",
    "\n",
    "    model_names = ['difflib', 'difflib_reg', 'levenshtein', 'levenshtein_reg', 'levenshtein_1', 'levenshtein_2', 'levenshtein_3', 'textvectorization']\n",
    "    test_predictions = pd.DataFrame(columns=model_names)\n",
    "    textvectorization = tf.keras.models.load_model(THESIS_PATH+DATASET+'/textvectorization_model.tf')\n",
    "    difflib_regressor = Difflib_Regressor()\n",
    "    difflib_regressor.fit(X_train[['code1', 'code2']].values, y_train)\n",
    "    difflib_regressor.fit(X_val[['code1', 'code2']].values, y_val)\n",
    "    levenshtein_regressor = Levenshtein_Regressor()\n",
    "    levenshtein_regressor.fit(X_train[['code1','code2']].values, y_train)\n",
    "    levenshtein_regressor.fit(X_val[['code1','code2']].values, y_val)\n",
    "    test_predictions = test_all_models(X_test, test_predictions, y_test, difflib_regressor, levenshtein_regressor, textvectorization)\n",
    "\n",
    "    # calculate_confusion_matrix(test_predictions['textvectorization'].values, y_test, THESIS_PATH+DATASET+'/', 'textvectorization', f'test data set {DATASET}')\n",
    "    df_metrics = calculate_metrics(y_test, test_predictions, model_names)\n",
    "    plot_metrics_table(df_metrics, THESIS_PATH + f'{DATASET}/', title=f'Metrics Table with handmade test data of {DATASET} dataset')\n",
    "    \n",
    "\n",
    "datasets = ['smaller_0.4', 'smaller_0.55', 'smaller_0.7', 'smaller_equal_1', 'complicated_smaller_0.55', 'complicated_smaller_0.7']\n",
    "suffixes = ['_data_smaller_0.4', '_data_smaller_0.55', '_data_smaller_0.7', '_data_smaller_equal_1', '_complicated_data_smaller_0.55', '_complicated_data_smaller_0.7']\n",
    "for DATASET, suffix in zip(datasets, suffixes):\n",
    "    read_dataset_load_model_train_models_and_eval_all_models(suffix, DATASET)\n"
   ]
  },
  {
   "cell_type": "code",
   "execution_count": null,
   "metadata": {},
   "outputs": [],
   "source": [
    "def read_dataset_train_and_eval_all_models(suffix = '_data_smaller_0.7', DATASET = 'smaller_0.7'):\n",
    "    try:\n",
    "        X_train, y_train = read_and_split_data('train_data_', suffix)\n",
    "        X_val, y_val = read_and_split_data('val_data_', suffix)\n",
    "        X_test, y_test = read_and_split_data('test_data_', suffix)\n",
    "\n",
    "        preprocess_student_pairs(X_train)\n",
    "        preprocess_student_pairs(X_val)\n",
    "        preprocess_student_pairs(X_test)\n",
    "        textvectorization = textvectorization_model(tf_idf='tf_idf', max_vocab_len=1000, embedding_dim=16, rnn_units=16, dense_units=16, dropout=0.2, lr=0.1)\n",
    "        train_history = textvectorization.fit(X_train[['code1_strip','code2_strip']], y_train, validation_data=(X_val[['code1_strip', 'code2_strip']], y_val), epochs=50, verbose=1, callbacks=[early_stopping, reduce_lr])\n",
    "        plot_training_history(train_history, THESIS_PATH+DATASET+'/', 'textvectorization', f'train data set {DATASET}')\n",
    "    except:\n",
    "        print('Error in dataset: ', DATASET)\n",
    "        pass\n",
    "\n",
    "datasets = ['smaller_0.4']#, 'smaller_0.55', 'smaller_0.7', 'smaller_equal_1', 'complicated_smaller_0.55', 'complicated_smaller_0.7']\n",
    "suffixes = ['_data_smaller_0.4']#, '_data_smaller_0.55', '_data_smaller_0.7', '_data_smaller_equal_1', '_complicated_data_smaller_0.55', '_complicated_data_smaller_0.7']\n",
    "for DATASET, suffix in zip(datasets, suffixes):\n",
    "    read_dataset_train_and_eval_all_models(suffix, DATASET)\n"
   ]
  },
  {
   "cell_type": "code",
   "execution_count": null,
   "metadata": {},
   "outputs": [],
   "source": [
    "# # use function read_dataset_train_and_eval_all_models on complicated dataset 0.7\n",
    "\n",
    "# datasets = ['complicated_smaller_0.7']\n",
    "# suffixes = ['_complicated_data_smaller_0.7']\n",
    "# for DATASET, suffix in zip(datasets, suffixes):\n",
    "#     read_dataset_train_and_eval_all_models(suffix, DATASET)"
   ]
  },
  {
   "cell_type": "markdown",
   "metadata": {},
   "source": [
    "# Test models"
   ]
  },
  {
   "cell_type": "markdown",
   "metadata": {},
   "source": [
    "## Predictions on handmade plagiate with difflib, levenshtein and textvectorization model"
   ]
  },
  {
   "cell_type": "code",
   "execution_count": 37,
   "metadata": {},
   "outputs": [
    {
     "name": "stderr",
     "output_type": "stream",
     "text": [
      "2023-01-29 02:47:43.146198: W tensorflow/stream_executor/platform/default/dso_loader.cc:64] Could not load dynamic library 'libcuda.so.1'; dlerror: libcuda.so.1: cannot open shared object file: No such file or directory\n",
      "2023-01-29 02:47:43.146215: W tensorflow/stream_executor/cuda/cuda_driver.cc:263] failed call to cuInit: UNKNOWN ERROR (303)\n",
      "2023-01-29 02:47:43.146227: I tensorflow/stream_executor/cuda/cuda_diagnostics.cc:156] kernel driver does not appear to be running on this host (erik-MS-7C56): /proc/driver/nvidia/version does not exist\n",
      "2023-01-29 02:47:43.146357: I tensorflow/core/platform/cpu_feature_guard.cc:193] This TensorFlow binary is optimized with oneAPI Deep Neural Network Library (oneDNN) to use the following CPU instructions in performance-critical operations:  AVX2 FMA\n",
      "To enable them in other operations, rebuild TensorFlow with the appropriate compiler flags.\n",
      "2023-01-29 02:47:44.807088: W tensorflow/core/common_runtime/graph_constructor.cc:805] Node 'cond/while' has 13 outputs but the _output_shapes attribute specifies shapes for 46 outputs. Output shapes may be inaccurate.\n",
      "2023-01-29 02:47:45.185944: W tensorflow/core/common_runtime/graph_constructor.cc:805] Node 'cond/while' has 13 outputs but the _output_shapes attribute specifies shapes for 46 outputs. Output shapes may be inaccurate.\n",
      "2023-01-29 02:47:45.239588: W tensorflow/core/common_runtime/graph_constructor.cc:805] Node 'cond/while' has 13 outputs but the _output_shapes attribute specifies shapes for 46 outputs. Output shapes may be inaccurate.\n",
      "2023-01-29 02:47:46.089581: W tensorflow/core/common_runtime/graph_constructor.cc:805] Node 'cond/while' has 13 outputs but the _output_shapes attribute specifies shapes for 46 outputs. Output shapes may be inaccurate.\n",
      "2023-01-29 02:47:46.496953: W tensorflow/core/common_runtime/graph_constructor.cc:805] Node 'cond/while' has 13 outputs but the _output_shapes attribute specifies shapes for 46 outputs. Output shapes may be inaccurate.\n",
      "2023-01-29 02:47:46.505194: W tensorflow/core/common_runtime/graph_constructor.cc:805] Node 'cond' has 5 outputs but the _output_shapes attribute specifies shapes for 46 outputs. Output shapes may be inaccurate.\n",
      "2023-01-29 02:47:46.514481: W tensorflow/core/common_runtime/graph_constructor.cc:805] Node 'cond/while' has 13 outputs but the _output_shapes attribute specifies shapes for 46 outputs. Output shapes may be inaccurate.\n",
      "2023-01-29 02:47:46.522821: W tensorflow/core/common_runtime/graph_constructor.cc:805] Node 'cond' has 5 outputs but the _output_shapes attribute specifies shapes for 46 outputs. Output shapes may be inaccurate.\n",
      "2023-01-29 02:47:46.586243: W tensorflow/core/common_runtime/graph_constructor.cc:805] Node 'cond/while' has 13 outputs but the _output_shapes attribute specifies shapes for 46 outputs. Output shapes may be inaccurate.\n",
      "2023-01-29 02:47:46.594036: W tensorflow/core/common_runtime/graph_constructor.cc:805] Node 'cond' has 5 outputs but the _output_shapes attribute specifies shapes for 46 outputs. Output shapes may be inaccurate.\n",
      "2023-01-29 02:47:46.655766: W tensorflow/core/common_runtime/graph_constructor.cc:805] Node 'cond/while' has 13 outputs but the _output_shapes attribute specifies shapes for 46 outputs. Output shapes may be inaccurate.\n",
      "2023-01-29 02:47:46.663770: W tensorflow/core/common_runtime/graph_constructor.cc:805] Node 'cond' has 5 outputs but the _output_shapes attribute specifies shapes for 46 outputs. Output shapes may be inaccurate.\n",
      "2023-01-29 02:47:46.876653: W tensorflow/core/common_runtime/graph_constructor.cc:805] Node 'cond' has 5 outputs but the _output_shapes attribute specifies shapes for 46 outputs. Output shapes may be inaccurate.\n",
      "2023-01-29 02:47:47.226849: W tensorflow/core/common_runtime/graph_constructor.cc:805] Node 'cond/while' has 13 outputs but the _output_shapes attribute specifies shapes for 46 outputs. Output shapes may be inaccurate.\n",
      "2023-01-29 02:47:47.235460: W tensorflow/core/common_runtime/graph_constructor.cc:805] Node 'cond' has 5 outputs but the _output_shapes attribute specifies shapes for 46 outputs. Output shapes may be inaccurate.\n",
      "2023-01-29 02:47:47.296710: W tensorflow/core/common_runtime/graph_constructor.cc:805] Node 'cond' has 5 outputs but the _output_shapes attribute specifies shapes for 46 outputs. Output shapes may be inaccurate.\n",
      "2023-01-29 02:47:47.317984: W tensorflow/core/common_runtime/graph_constructor.cc:805] Node 'cond' has 5 outputs but the _output_shapes attribute specifies shapes for 46 outputs. Output shapes may be inaccurate.\n",
      "2023-01-29 02:47:47.327598: W tensorflow/core/common_runtime/graph_constructor.cc:805] Node 'cond/while' has 13 outputs but the _output_shapes attribute specifies shapes for 46 outputs. Output shapes may be inaccurate.\n",
      "2023-01-29 02:47:47.460825: W tensorflow/core/common_runtime/graph_constructor.cc:805] Node 'cond/while' has 13 outputs but the _output_shapes attribute specifies shapes for 46 outputs. Output shapes may be inaccurate.\n",
      "2023-01-29 02:47:47.470960: W tensorflow/core/common_runtime/graph_constructor.cc:805] Node 'cond' has 5 outputs but the _output_shapes attribute specifies shapes for 46 outputs. Output shapes may be inaccurate.\n",
      "2023-01-29 02:47:47.483468: W tensorflow/core/common_runtime/graph_constructor.cc:805] Node 'cond/while' has 13 outputs but the _output_shapes attribute specifies shapes for 46 outputs. Output shapes may be inaccurate.\n",
      "2023-01-29 02:47:47.493333: W tensorflow/core/common_runtime/graph_constructor.cc:805] Node 'cond' has 5 outputs but the _output_shapes attribute specifies shapes for 46 outputs. Output shapes may be inaccurate.\n",
      "2023-01-29 02:47:47.910764: W tensorflow/core/common_runtime/graph_constructor.cc:805] Node 'cond' has 5 outputs but the _output_shapes attribute specifies shapes for 46 outputs. Output shapes may be inaccurate.\n",
      "2023-01-29 02:47:48.108585: W tensorflow/core/common_runtime/graph_constructor.cc:805] Node 'cond/while' has 13 outputs but the _output_shapes attribute specifies shapes for 46 outputs. Output shapes may be inaccurate.\n",
      "2023-01-29 02:47:48.121832: W tensorflow/core/common_runtime/graph_constructor.cc:805] Node 'cond' has 5 outputs but the _output_shapes attribute specifies shapes for 46 outputs. Output shapes may be inaccurate.\n",
      "2023-01-29 02:47:48.196318: W tensorflow/core/common_runtime/graph_constructor.cc:805] Node 'cond/while' has 13 outputs but the _output_shapes attribute specifies shapes for 46 outputs. Output shapes may be inaccurate.\n",
      "2023-01-29 02:47:48.205089: W tensorflow/core/common_runtime/graph_constructor.cc:805] Node 'cond' has 5 outputs but the _output_shapes attribute specifies shapes for 46 outputs. Output shapes may be inaccurate.\n",
      "2023-01-29 02:47:48.280843: W tensorflow/core/common_runtime/graph_constructor.cc:805] Node 'cond' has 5 outputs but the _output_shapes attribute specifies shapes for 46 outputs. Output shapes may be inaccurate.\n"
     ]
    },
    {
     "name": "stdout",
     "output_type": "stream",
     "text": [
      "1/1 [==============================] - 1s 1s/step\n",
      "difflib\n",
      "difflib_reg\n",
      "levenshtein\n",
      "levenshtein_reg\n",
      "levenshtein_1\n",
      "levenshtein_2\n",
      "levenshtein_3\n",
      "textvectorization\n"
     ]
    },
    {
     "name": "stderr",
     "output_type": "stream",
     "text": [
      "/home/erik/.python_env/ni_thesis/lib/python3.10/site-packages/sklearn/metrics/_ranking.py:1020: UndefinedMetricWarning: No negative samples in y_true, false positive value should be meaningless\n",
      "  warnings.warn(\n",
      "/home/erik/.python_env/ni_thesis/lib/python3.10/site-packages/sklearn/metrics/_ranking.py:1020: UndefinedMetricWarning: No negative samples in y_true, false positive value should be meaningless\n",
      "  warnings.warn(\n",
      "/home/erik/.python_env/ni_thesis/lib/python3.10/site-packages/sklearn/metrics/_ranking.py:1020: UndefinedMetricWarning: No negative samples in y_true, false positive value should be meaningless\n",
      "  warnings.warn(\n",
      "/home/erik/.python_env/ni_thesis/lib/python3.10/site-packages/sklearn/metrics/_ranking.py:1020: UndefinedMetricWarning: No negative samples in y_true, false positive value should be meaningless\n",
      "  warnings.warn(\n",
      "/home/erik/.python_env/ni_thesis/lib/python3.10/site-packages/sklearn/metrics/_ranking.py:1020: UndefinedMetricWarning: No negative samples in y_true, false positive value should be meaningless\n",
      "  warnings.warn(\n",
      "/home/erik/.python_env/ni_thesis/lib/python3.10/site-packages/sklearn/metrics/_ranking.py:1020: UndefinedMetricWarning: No negative samples in y_true, false positive value should be meaningless\n",
      "  warnings.warn(\n",
      "/home/erik/.python_env/ni_thesis/lib/python3.10/site-packages/sklearn/metrics/_ranking.py:1020: UndefinedMetricWarning: No negative samples in y_true, false positive value should be meaningless\n",
      "  warnings.warn(\n",
      "/home/erik/.python_env/ni_thesis/lib/python3.10/site-packages/sklearn/metrics/_ranking.py:1020: UndefinedMetricWarning: No negative samples in y_true, false positive value should be meaningless\n",
      "  warnings.warn(\n"
     ]
    },
    {
     "data": {
      "image/png": "[encoded data removed]",
      "text/plain": [
       "<Figure size 640x480 with 1 Axes>"
      ]
     },
     "metadata": {},
     "output_type": "display_data"
    },
    {
     "name": "stderr",
     "output_type": "stream",
     "text": [
      "/home/erik/.python_env/ni_thesis/lib/python3.10/site-packages/sklearn/metrics/_classification.py:1344: UndefinedMetricWarning: Recall and F-score are ill-defined and being set to 0.0 in labels with no true samples. Use `zero_division` parameter to control this behavior.\n",
      "  _warn_prf(average, modifier, msg_start, len(result))\n",
      "/home/erik/.python_env/ni_thesis/lib/python3.10/site-packages/sklearn/metrics/_classification.py:1344: UndefinedMetricWarning: Recall and F-score are ill-defined and being set to 0.0 in labels with no true samples. Use `zero_division` parameter to control this behavior.\n",
      "  _warn_prf(average, modifier, msg_start, len(result))\n",
      "/home/erik/.python_env/ni_thesis/lib/python3.10/site-packages/sklearn/metrics/_classification.py:1344: UndefinedMetricWarning: Recall and F-score are ill-defined and being set to 0.0 in labels with no true samples. Use `zero_division` parameter to control this behavior.\n",
      "  _warn_prf(average, modifier, msg_start, len(result))\n",
      "/home/erik/.python_env/ni_thesis/lib/python3.10/site-packages/sklearn/metrics/_classification.py:1344: UndefinedMetricWarning: Recall and F-score are ill-defined and being set to 0.0 in labels with no true samples. Use `zero_division` parameter to control this behavior.\n",
      "  _warn_prf(average, modifier, msg_start, len(result))\n",
      "/home/erik/.python_env/ni_thesis/lib/python3.10/site-packages/sklearn/metrics/_classification.py:1344: UndefinedMetricWarning: Recall and F-score are ill-defined and being set to 0.0 in labels with no true samples. Use `zero_division` parameter to control this behavior.\n",
      "  _warn_prf(average, modifier, msg_start, len(result))\n",
      "/home/erik/.python_env/ni_thesis/lib/python3.10/site-packages/sklearn/metrics/_classification.py:1344: UndefinedMetricWarning: Recall and F-score are ill-defined and being set to 0.0 in labels with no true samples. Use `zero_division` parameter to control this behavior.\n",
      "  _warn_prf(average, modifier, msg_start, len(result))\n",
      "/home/erik/.python_env/ni_thesis/lib/python3.10/site-packages/sklearn/metrics/_classification.py:1344: UndefinedMetricWarning: Precision and F-score are ill-defined and being set to 0.0 in labels with no predicted samples. Use `zero_division` parameter to control this behavior.\n",
      "  _warn_prf(average, modifier, msg_start, len(result))\n",
      "/home/erik/.python_env/ni_thesis/lib/python3.10/site-packages/sklearn/metrics/_classification.py:1344: UndefinedMetricWarning: Recall and F-score are ill-defined and being set to 0.0 in labels with no true samples. Use `zero_division` parameter to control this behavior.\n",
      "  _warn_prf(average, modifier, msg_start, len(result))\n",
      "/home/erik/.python_env/ni_thesis/lib/python3.10/site-packages/sklearn/metrics/_classification.py:1344: UndefinedMetricWarning: Precision and F-score are ill-defined and being set to 0.0 in labels with no predicted samples. Use `zero_division` parameter to control this behavior.\n",
      "  _warn_prf(average, modifier, msg_start, len(result))\n",
      "/home/erik/.python_env/ni_thesis/lib/python3.10/site-packages/sklearn/metrics/_classification.py:1344: UndefinedMetricWarning: Recall and F-score are ill-defined and being set to 0.0 in labels with no true samples. Use `zero_division` parameter to control this behavior.\n",
      "  _warn_prf(average, modifier, msg_start, len(result))\n",
      "/home/erik/.python_env/ni_thesis/lib/python3.10/site-packages/sklearn/metrics/_classification.py:1344: UndefinedMetricWarning: Precision and F-score are ill-defined and being set to 0.0 in labels with no predicted samples. Use `zero_division` parameter to control this behavior.\n",
      "  _warn_prf(average, modifier, msg_start, len(result))\n",
      "/home/erik/.python_env/ni_thesis/lib/python3.10/site-packages/sklearn/metrics/_classification.py:1344: UndefinedMetricWarning: Recall and F-score are ill-defined and being set to 0.0 in labels with no true samples. Use `zero_division` parameter to control this behavior.\n",
      "  _warn_prf(average, modifier, msg_start, len(result))\n",
      "/home/erik/.python_env/ni_thesis/lib/python3.10/site-packages/sklearn/metrics/_classification.py:1344: UndefinedMetricWarning: Recall and F-score are ill-defined and being set to 0.0 in labels with no true samples. Use `zero_division` parameter to control this behavior.\n",
      "  _warn_prf(average, modifier, msg_start, len(result))\n",
      "/home/erik/.python_env/ni_thesis/lib/python3.10/site-packages/sklearn/metrics/_classification.py:1344: UndefinedMetricWarning: Recall and F-score are ill-defined and being set to 0.0 in labels with no true samples. Use `zero_division` parameter to control this behavior.\n",
      "  _warn_prf(average, modifier, msg_start, len(result))\n",
      "/home/erik/.python_env/ni_thesis/lib/python3.10/site-packages/sklearn/metrics/_classification.py:1344: UndefinedMetricWarning: Recall and F-score are ill-defined and being set to 0.0 in labels with no true samples. Use `zero_division` parameter to control this behavior.\n",
      "  _warn_prf(average, modifier, msg_start, len(result))\n",
      "/home/erik/.python_env/ni_thesis/lib/python3.10/site-packages/sklearn/metrics/_classification.py:1344: UndefinedMetricWarning: Precision and F-score are ill-defined and being set to 0.0 in labels with no predicted samples. Use `zero_division` parameter to control this behavior.\n",
      "  _warn_prf(average, modifier, msg_start, len(result))\n",
      "/home/erik/.python_env/ni_thesis/lib/python3.10/site-packages/sklearn/metrics/_classification.py:1344: UndefinedMetricWarning: Recall and F-score are ill-defined and being set to 0.0 in labels with no true samples. Use `zero_division` parameter to control this behavior.\n",
      "  _warn_prf(average, modifier, msg_start, len(result))\n",
      "/home/erik/.python_env/ni_thesis/lib/python3.10/site-packages/sklearn/metrics/_classification.py:1344: UndefinedMetricWarning: Precision and F-score are ill-defined and being set to 0.0 in labels with no predicted samples. Use `zero_division` parameter to control this behavior.\n",
      "  _warn_prf(average, modifier, msg_start, len(result))\n",
      "/home/erik/.python_env/ni_thesis/lib/python3.10/site-packages/sklearn/metrics/_classification.py:1344: UndefinedMetricWarning: Recall and F-score are ill-defined and being set to 0.0 in labels with no true samples. Use `zero_division` parameter to control this behavior.\n",
      "  _warn_prf(average, modifier, msg_start, len(result))\n",
      "/home/erik/.python_env/ni_thesis/lib/python3.10/site-packages/sklearn/metrics/_classification.py:1344: UndefinedMetricWarning: Precision and F-score are ill-defined and being set to 0.0 in labels with no predicted samples. Use `zero_division` parameter to control this behavior.\n",
      "  _warn_prf(average, modifier, msg_start, len(result))\n",
      "/home/erik/.python_env/ni_thesis/lib/python3.10/site-packages/sklearn/metrics/_classification.py:1344: UndefinedMetricWarning: Recall and F-score are ill-defined and being set to 0.0 in labels with no true samples. Use `zero_division` parameter to control this behavior.\n",
      "  _warn_prf(average, modifier, msg_start, len(result))\n",
      "/home/erik/.python_env/ni_thesis/lib/python3.10/site-packages/sklearn/metrics/_classification.py:1344: UndefinedMetricWarning: Recall and F-score are ill-defined and being set to 0.0 in labels with no true samples. Use `zero_division` parameter to control this behavior.\n",
      "  _warn_prf(average, modifier, msg_start, len(result))\n",
      "/home/erik/.python_env/ni_thesis/lib/python3.10/site-packages/sklearn/metrics/_classification.py:1344: UndefinedMetricWarning: Recall and F-score are ill-defined and being set to 0.0 in labels with no true samples. Use `zero_division` parameter to control this behavior.\n",
      "  _warn_prf(average, modifier, msg_start, len(result))\n",
      "/home/erik/.python_env/ni_thesis/lib/python3.10/site-packages/sklearn/metrics/_classification.py:1344: UndefinedMetricWarning: Recall and F-score are ill-defined and being set to 0.0 in labels with no true samples. Use `zero_division` parameter to control this behavior.\n",
      "  _warn_prf(average, modifier, msg_start, len(result))\n",
      "/home/erik/.python_env/ni_thesis/lib/python3.10/site-packages/sklearn/metrics/_classification.py:1344: UndefinedMetricWarning: Recall and F-score are ill-defined and being set to 0.0 in labels with no true samples. Use `zero_division` parameter to control this behavior.\n",
      "  _warn_prf(average, modifier, msg_start, len(result))\n",
      "/home/erik/.python_env/ni_thesis/lib/python3.10/site-packages/sklearn/metrics/_classification.py:1344: UndefinedMetricWarning: Recall and F-score are ill-defined and being set to 0.0 in labels with no true samples. Use `zero_division` parameter to control this behavior.\n",
      "  _warn_prf(average, modifier, msg_start, len(result))\n",
      "/home/erik/.python_env/ni_thesis/lib/python3.10/site-packages/sklearn/metrics/_classification.py:1344: UndefinedMetricWarning: Recall and F-score are ill-defined and being set to 0.0 in labels with no true samples. Use `zero_division` parameter to control this behavior.\n",
      "  _warn_prf(average, modifier, msg_start, len(result))\n"
     ]
    },
    {
     "data": {
      "image/png": "[encoded data removed]",
      "text/plain": [
       "<Figure size 640x480 with 1 Axes>"
      ]
     },
     "metadata": {},
     "output_type": "display_data"
    }
   ],
   "source": [
    "# load textvectorization model from dataset smaller_0.7\n",
    "\n",
    "def eval_trained_models_on_handmade_data(suffix = '_data_smaller_0.7', DATASET = 'smaller_0.7', path=PATH_LABLED_SPLIT, known = True):\n",
    "    X_train, y_train = read_and_split_data('train_data_', suffix)\n",
    "    X_val, y_val = read_and_split_data('val_data_', suffix)\n",
    "    X_test, y_test = read_and_split_data('test_data_', suffix)\n",
    "\n",
    "    preprocess_student_pairs(X_train)\n",
    "    preprocess_student_pairs(X_val)\n",
    "    preprocess_student_pairs(X_test)\n",
    "\n",
    "    model_names = ['difflib', 'difflib_reg', 'levenshtein', 'levenshtein_reg', 'levenshtein_1', 'levenshtein_2', 'levenshtein_3', 'textvectorization']\n",
    "    test_predictions = pd.DataFrame(columns=model_names)\n",
    "    textvectorization = tf.keras.models.load_model(THESIS_PATH+DATASET+'/textvectorization_model.tf')\n",
    "    difflib_regressor = Difflib_Regressor()\n",
    "    difflib_regressor.fit(X_train[['code1', 'code2']].values, y_train)\n",
    "    difflib_regressor.fit(X_val[['code1', 'code2']].values, y_val)\n",
    "    levenshtein_regressor = Levenshtein_Regressor()\n",
    "    levenshtein_regressor.fit(X_train[['code1','code2']].values, y_train)\n",
    "    levenshtein_regressor.fit(X_val[['code1','code2']].values, y_val)\n",
    "\n",
    "    if(known):\n",
    "        folder = 'known_tasks'\n",
    "    else:\n",
    "        folder = 'unknown_tasks'\n",
    "    # create dataframe from handmade_plagiate\n",
    "    df_handmade = pd.DataFrame()\n",
    "    df_handmade['code1'] = [open(path+folder+'/handmade_plagiate_{}_0.c'.format(i), 'r').read() for i in range(0, 10)]\n",
    "    df_handmade['code2'] = [open(path+folder+'/handmade_plagiate_{}_1.c'.format(i), 'r').read() for i in range(0, 10)]\n",
    "    # shuffel the content of the columns\n",
    "    for i in range(len(df_handmade)):\n",
    "        if random.random() > 0.5:\n",
    "            df_handmade.at[i, 'code1'], df_handmade.at[i, 'code2'] = df_handmade.at[i, 'code2'], df_handmade.at[i, 'code1']\n",
    "    preprocess_student_pairs(df_handmade)\n",
    "    df_handmade['label'] = 1\n",
    "    # predict labels for all models\n",
    "    test_predictions = test_all_models(df_handmade, test_predictions, df_handmade['label'], difflib_regressor, levenshtein_regressor, textvectorization)\n",
    "\n",
    "    # calculate_confusion_matrix(test_predictions['textvectorization'].values, y_test, THESIS_PATH+DATASET+'/', 'textvectorization', f'test data set {DATASET}')\n",
    "    df_metrics = calculate_metrics(df_handmade['label'], test_predictions, model_names)\n",
    "    plot_metrics_table(df_metrics, THESIS_PATH + f'{DATASET}/', title=f'Metrics Table with handmade test data of {folder} trained on {DATASET}')\n",
    "\n",
    "#\n",
    "# TODO noch in jedem kapitel hinschreiben wie viele paare die verschiedenen daten enthalten\n",
    "suffix = '_data_smaller_0.7'\n",
    "DATASET = 'smaller_0.7'\n",
    "eval_trained_models_on_handmade_data(suffix, DATASET, known=False)\n"
   ]
  }
 ],
 "metadata": {
  "accelerator": "GPU",
  "colab": {
   "collapsed_sections": [
    "XWXpEeDD6GjB"
   ],
   "name": "Source code Similarity Neural Network Binary.ipynb",
   "provenance": [],
   "toc_visible": true,
   "version": "0.3.2"
  },
  "kernelspec": {
   "display_name": "Python 3 (ipykernel)",
   "language": "python",
   "name": "python3"
  },
  "language_info": {
   "codemirror_mode": {
    "name": "ipython",
    "version": 3
   },
   "file_extension": ".py",
   "mimetype": "text/x-python",
   "name": "python",
   "nbconvert_exporter": "python",
   "pygments_lexer": "ipython3",
   "version": "3.10.6"
  },
  "vscode": {
   "interpreter": {
    "hash": "b3933e0663bf5620042c1961aee3af5b1bdc065f8f755c1357cd2aea17fcaa5e"
   }
  }
 },
 "nbformat": 4,
 "nbformat_minor": 1
}
